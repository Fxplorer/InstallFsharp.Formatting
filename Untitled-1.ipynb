{
 "cells": [
  {
   "cell_type": "markdown",
   "metadata": {},
   "source": [
    "The goal of this workbook is to initialize the Fsharp.Formatting document creation utility in one's own repo."
   ]
  },
  {
   "cell_type": "markdown",
   "metadata": {},
   "source": [
    "One can use a Polyglot notebook to issue commands and code in different languages and contexts. For example, setting the block to PowerShell essentilly gives one a command prompt or terminal.  "
   ]
  },
  {
   "cell_type": "code",
   "execution_count": 46,
   "metadata": {
    "dotnet_interactive": {
     "language": "pwsh"
    },
    "polyglot_notebook": {
     "kernelName": "pwsh"
    }
   },
   "outputs": [
    {
     "name": "stdout",
     "output_type": "stream",
     "text": [
      ".NET SDK:\n",
      " Version:           8.0.202\n",
      " Commit:            25674bb2f4\n",
      " Workload version:  8.0.200-manifests.ed5d83c5\n",
      "\n",
      "Runtime Environment:\n",
      " OS Name:     linuxmint\n",
      " OS Version:  6\n",
      " OS Platform: Linux\n",
      " RID:         linux-x64\n",
      " Base Path:   /usr/share/dotnet/sdk/8.0.202/\n",
      "\n",
      ".NET workloads installed:\n",
      " [wasm-tools]\n",
      "   Installation Source: SDK 8.0.200\n",
      "   Manifest Version:    8.0.3/8.0.100\n",
      "   Manifest Path:       /usr/share/dotnet/sdk-manifests/8.0.100/microsoft.net.workload.mono.toolchain.current/8.0.3/WorkloadManifest.json\n",
      "   Install Type:        FileBased\n",
      "\n",
      " [wasi-experimental]\n",
      "   Installation Source: SDK 8.0.200\n",
      "   Manifest Version:    8.0.3/8.0.100\n",
      "   Manifest Path:       /usr/share/dotnet/sdk-manifests/8.0.100/microsoft.net.workload.mono.toolchain.current/8.0.3/WorkloadManifest.json\n",
      "   Install Type:        FileBased\n",
      "\n",
      " [android]\n",
      "   Installation Source: SDK 8.0.200\n",
      "   Manifest Version:    34.0.43/8.0.100\n",
      "   Manifest Path:       /usr/share/dotnet/sdk-manifests/8.0.100/microsoft.net.sdk.android/34.0.43/WorkloadManifest.json\n",
      "   Install Type:        FileBased\n",
      "\n",
      "\n",
      "Host:\n",
      "  Version:      8.0.3\n",
      "  Architecture: x64\n",
      "  Commit:       9f4b1f5d66\n",
      "\n",
      ".NET SDKs installed:\n",
      "  6.0.420 [/usr/share/dotnet/sdk]\n",
      "  7.0.407 [/usr/share/dotnet/sdk]\n",
      "  8.0.202 [/usr/share/dotnet/sdk]\n",
      "\n",
      ".NET runtimes installed:\n",
      "  Microsoft.AspNetCore.App 6.0.28 [/usr/share/dotnet/shared/Microsoft.AspNetCore.App]\n",
      "  Microsoft.AspNetCore.App 7.0.17 [/usr/share/dotnet/shared/Microsoft.AspNetCore.App]\n",
      "  Microsoft.AspNetCore.App 8.0.3 [/usr/share/dotnet/shared/Microsoft.AspNetCore.App]\n",
      "  Microsoft.NETCore.App 6.0.28 [/usr/share/dotnet/shared/Microsoft.NETCore.App]\n",
      "  Microsoft.NETCore.App 7.0.17 [/usr/share/dotnet/shared/Microsoft.NETCore.App]\n",
      "  Microsoft.NETCore.App 8.0.3 [/usr/share/dotnet/shared/Microsoft.NETCore.App]\n",
      "\n",
      "Other architectures found:\n",
      "  None\n",
      "\n",
      "Environment variables:\n",
      "  Not set\n",
      "\n",
      "global.json file:\n",
      "  Not found\n",
      "\n",
      "Learn more:\n",
      "  https://aka.ms/dotnet/info\n",
      "\n",
      "Download .NET:\n",
      "  https://aka.ms/dotnet/download\n"
     ]
    }
   ],
   "source": [
    "dotnet --info"
   ]
  },
  {
   "cell_type": "markdown",
   "metadata": {},
   "source": [
    "<img style=\"vertical-align: top;\" src=\"icons8-flashlight-48.png\" >&nbsp;&nbsp;<span style=\"font-weight: bold;font-size: 40px\">TIP</span>\n",
    "&nbsp;&nbsp;&nbsp;<span style=\"\">The outputs of running a block can be collapsed by double-clicking in the space between the marker bar and content border\n",
    "to the very left.</span>\n",
    "<div><img style=\"vertical-align: top;\" src=\"icons8-left-arrow-48.png\" ></div>\n",
    "\n"
   ]
  },
  {
   "cell_type": "markdown",
   "metadata": {},
   "source": [
    "<img style=\"vertical-align: top;\" src=\"icons8-learn-information-48.png\" >&nbsp;&nbsp;<span style=\"font-weight: bold;font-size: 40px\">NEW LEARNING</span>\n",
    "&nbsp;&nbsp;&nbsp;<span style=\"\">markdown blocks can have html put in them and it will automatically render. Using an html block will show the html code, and only when executed will it render. </span>\n",
    "\n"
   ]
  },
  {
   "cell_type": "markdown",
   "metadata": {},
   "source": [
    "PowerShell also has its own contructs (like bash) where scripting is possible. (The | is the pipe like in bash and |> in F#)"
   ]
  },
  {
   "cell_type": "code",
   "execution_count": 45,
   "metadata": {
    "dotnet_interactive": {
     "language": "pwsh"
    },
    "polyglot_notebook": {
     "kernelName": "pwsh"
    }
   },
   "outputs": [
    {
     "name": "stdout",
     "output_type": "stream",
     "text": [
      "\n",
      "\u001b[32;1;3mNPM(K)\u001b[0m \u001b[32;1;3m PM(M)\u001b[0m \u001b[32;1;3m WS(M)\u001b[0m \u001b[32;1;3mCPU(s)\u001b[0m\u001b[32;1m   Id\u001b[0m\u001b[32;1m   SI\u001b[0m\u001b[32;1m ProcessName\u001b[0m\n",
      "\u001b[32;1m------\u001b[0m \u001b[32;1m -----\u001b[0m \u001b[32;1m -----\u001b[0m \u001b[32;1m------\u001b[0m \u001b[32;1m  --\u001b[0m \u001b[32;1m  --\u001b[0m \u001b[32;1m-----------\u001b[0m\n",
      "     0  58.00 257.17  77.83 4998 1007 brave\n",
      "     0   8.20 165.69  15.06 6465 1007 brave\n",
      "     0   8.19 309.80 709.55 9803 1007 brave\n",
      "     0  25.64 109.80 222.23 5033 1007 brave --type=gpu-process --crashpad-handler-pid=5000 --enabl…\n",
      "     0  12.12  83.80  19.57 5038 1007 brave --type=utility --utility-sub-type=network.mojom.Networ…\n",
      "     0  34.38 248.50 831.96 1391 1007 cinnamon\n",
      "     0  39.48 147.47  12.24 2588 1007 code\n",
      "     0  25.02 346.02 266.46 4643 1007 code\n",
      "     0   3.92  88.89  13.17 5861 1007 code\n",
      "     0  26.77  88.35  48.12 2527 1007 Code --gpu-preferences=WAAAAAAAAAAgAAAEAAAAAAAAAAAAAAAAAABgA…\n",
      "     0  74.29 117.89  10.31 2629 1007 Code --standard-schemes=vscode-webview,vscode-file --enable-…\n",
      "     0  21.28  32.93  25.54 2675 1007 Code --standard-schemes=vscode-webview,vscode-file --enable-…\n",
      "     0  89.67 217.04  26.56 4665 1007 Code --standard-schemes=vscode-webview,vscode-file --enable-…\n",
      "     0  11.61 124.82  59.87 2490 1007 code --unity-launch\n",
      "     0 142.06 119.36  87.96 2841 2841 Microsoft.CodeAnalysis.LanguageServer\n",
      "     0  13.68  29.04  33.45 2479 1007 mintreport-tray\n",
      "     0   0.00  82.20  22.24 6739 1007 nemo\n",
      "     0   0.44   1.30  29.38 1149 1146 VBoxClient\n",
      "     0  31.59 223.90 157.69  842  842 Xorg\n",
      "\n"
     ]
    }
   ],
   "source": [
    "Get-Process | Where-Object { $_.CPU -gt 10 } | Format-Table -AutoSize"
   ]
  }
 ],
 "metadata": {
  "kernelspec": {
   "display_name": ".NET (C#)",
   "language": "C#",
   "name": ".net-csharp"
  },
  "language_info": {
   "name": "polyglot-notebook"
  },
  "polyglot_notebook": {
   "kernelInfo": {
    "defaultKernelName": "csharp",
    "items": [
     {
      "aliases": [],
      "name": "csharp"
     },
     {
      "aliases": [],
      "languageName": "fsharp",
      "name": "fsharp"
     }
    ]
   }
  }
 },
 "nbformat": 4,
 "nbformat_minor": 2
}
