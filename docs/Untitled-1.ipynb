{
 "cells": [
  {
   "cell_type": "markdown",
   "metadata": {},
   "source": [
    "The goal of this workbook is to initialize the Fsharp.Formatting document creation utility in one's own repo."
   ]
  },
  {
   "cell_type": "markdown",
   "metadata": {},
   "source": [
    "One can use a Polyglot notebook to issue commands and code in different languages and contexts. For example, setting the block to PowerShell essentilly gives one a command prompt or terminal.  "
   ]
  },
  {
   "cell_type": "code",
   "execution_count": null,
   "metadata": {
    "dotnet_interactive": {
     "language": "pwsh"
    },
    "polyglot_notebook": {
     "kernelName": "pwsh"
    }
   },
   "outputs": [],
   "source": [
    "dotnet --info"
   ]
  },
  {
   "cell_type": "markdown",
   "metadata": {},
   "source": [
    "<img style=\"vertical-align: top;\" src=\"/FsConsoleApp/img/icons8-flashlight-48.png\" >&nbsp;&nbsp;<span style=\"font-weight: bold;font-size: 40px\">TIP</span>\n",
    "&nbsp;&nbsp;&nbsp;<span style=\"\">The outputs of running a block can be collapsed by double-clicking in the space between the marker bar and content border\n",
    "to the very left.</span>\n",
    "<div><img style=\"vertical-align: top;\" src=\"/FsConsoleApp/icons8-left-arrow-48.png\" ></div>\n",
    "\n"
   ]
  },
  {
   "cell_type": "markdown",
   "metadata": {},
   "source": [
    "<img style=\"vertical-align: top;\" src=\"icons8-learn-information-48.png\" >&nbsp;&nbsp;<span style=\"font-weight: bold;font-size: 40px\">NEW LEARNING</span>\n",
    "&nbsp;&nbsp;&nbsp;<span style=\"\">markdown blocks can have html put in them and it will automatically render. Using an html block will show the html code, and only when executed will it render. </span>\n",
    "\n"
   ]
  },
  {
   "cell_type": "markdown",
   "metadata": {},
   "source": [
    "PowerShell also has its own contructs (like bash) where scripting is possible. (The | is the pipe like in bash and |> in F#)"
   ]
  },
  {
   "cell_type": "code",
   "execution_count": null,
   "metadata": {
    "dotnet_interactive": {
     "language": "pwsh"
    },
    "polyglot_notebook": {
     "kernelName": "pwsh"
    }
   },
   "outputs": [],
   "source": [
    "Get-Process | Where-Object { $_.CPU -gt 10 } | Format-Table -AutoSize"
   ]
  },
  {
   "cell_type": "code",
   "execution_count": null,
   "metadata": {
    "dotnet_interactive": {
     "language": "pwsh"
    },
    "polyglot_notebook": {
     "kernelName": "pwsh"
    }
   },
   "outputs": [],
   "source": []
  }
 ],
 "metadata": {
  "kernelspec": {
   "display_name": ".NET (C#)",
   "language": "C#",
   "name": ".net-csharp"
  },
  "language_info": {
   "name": "polyglot-notebook"
  },
  "polyglot_notebook": {
   "kernelInfo": {
    "defaultKernelName": "csharp",
    "items": [
     {
      "aliases": [],
      "name": "csharp"
     },
     {
      "aliases": [],
      "languageName": "fsharp",
      "name": "fsharp"
     }
    ]
   }
  }
 },
 "nbformat": 4,
 "nbformat_minor": 2
}
