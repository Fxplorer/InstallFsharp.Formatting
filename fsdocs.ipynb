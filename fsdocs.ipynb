{
 "cells": [
  {
   "cell_type": "markdown",
   "metadata": {},
   "source": [
    "The goal of this workbook is to initialize the FSharp.Formatting document creation utility in one's own repo."
   ]
  },
  {
   "cell_type": "markdown",
   "metadata": {},
   "source": [
    "This workbook should be placed in the repo root. FSharp.Formatting may be initialized using the dotnet tool utility. "
   ]
  },
  {
   "cell_type": "markdown",
   "metadata": {},
   "source": [
    "The standard setup is to have `RepoRoot/docs` where all your documentation .md and .fsx, etc files go. `fsdocs` will search through this directory and create the `*.html` files in the `RepoRoot/output` directory. There are customizations that can be set using the docs in the FSharp.Formatting repo. If a `docs` directoy is needed, run:"
   ]
  },
  {
   "cell_type": "code",
   "execution_count": 19,
   "metadata": {
    "dotnet_interactive": {
     "language": "pwsh"
    },
    "polyglot_notebook": {
     "kernelName": "pwsh"
    }
   },
   "outputs": [],
   "source": [
    "mkdir docs"
   ]
  },
  {
   "cell_type": "markdown",
   "metadata": {},
   "source": [
    "By default, `fsdocs` will search though each of your projects and create the `API REFERENCE` section. So in order to include that example, have a F# project in your repo. "
   ]
  },
  {
   "cell_type": "markdown",
   "metadata": {},
   "source": [
    "If the need exists to create a simple console app for this demo, run the next block. Otherwise, skip execution. "
   ]
  },
  {
   "cell_type": "code",
   "execution_count": null,
   "metadata": {
    "dotnet_interactive": {
     "language": "pwsh"
    },
    "polyglot_notebook": {
     "kernelName": "pwsh"
    }
   },
   "outputs": [],
   "source": [
    "dotnet new console -lang f# -o src/FsConsoleApp"
   ]
  },
  {
   "cell_type": "markdown",
   "metadata": {},
   "source": [
    "Replace the contents of Programs.fs with the code in the following block: "
   ]
  },
  {
   "cell_type": "code",
   "execution_count": null,
   "metadata": {
    "dotnet_interactive": {
     "language": "fsharp"
    },
    "polyglot_notebook": {
     "kernelName": "fsharp"
    },
    "tags": [
     "Program.fs"
    ]
   },
   "outputs": [],
   "source": [
    "//Programs.fs demo file contents\n",
    "\n",
    "/// This is a simple F# console application that demonstrates the use of XML comments.\n",
    "/// It prompts the user to enter a name and then greets them.\n",
    "module FsConsoleApp\n",
    "\n",
    "open System\n",
    "\n",
    "/// This function greets the user with a personalized message.\n",
    "let greet (name: string) =\n",
    "    printfn \"Hello, %s! Welcome to the F# console app.\" name\n",
    "\n",
    "[<EntryPoint>]\n",
    "let main args =\n",
    "    printfn \"Please enter your name:\"\n",
    "    /// Apply XML comment to the name binding\n",
    "    /// <summary>This is an XML comment for name.</summary>\n",
    "    let name = Console.ReadLine()\n",
    "\n",
    "    \n",
    "    greet name\n",
    "\n",
    "    printfn \"Press any key to exit...\"\n",
    "    Console.ReadKey() |> ignore\n",
    "    0 // return an integer exit code"
   ]
  },
  {
   "cell_type": "markdown",
   "metadata": {},
   "source": [
    "`dotnet tool` will error without a `Dotnet local tool manifest file`.\n",
    "Create one:"
   ]
  },
  {
   "cell_type": "code",
   "execution_count": null,
   "metadata": {
    "dotnet_interactive": {
     "language": "pwsh"
    },
    "polyglot_notebook": {
     "kernelName": "pwsh"
    }
   },
   "outputs": [],
   "source": [
    "dotnet new tool-manifest"
   ]
  },
  {
   "cell_type": "markdown",
   "metadata": {},
   "source": [
    "The basic command to install Fsharp.Formatting is:"
   ]
  },
  {
   "cell_type": "code",
   "execution_count": 18,
   "metadata": {
    "dotnet_interactive": {
     "language": "pwsh"
    },
    "polyglot_notebook": {
     "kernelName": "pwsh"
    }
   },
   "outputs": [
    {
     "name": "stdout",
     "output_type": "stream",
     "text": [
      "Tool 'fsdocs-tool' is up to date (version '20.0.0' manifest file /home/linux/CODE/InstallFsharp.Formatting/.config/dotnet-tools.json) .\n"
     ]
    }
   ],
   "source": [
    "dotnet tool install fsdocs-tool"
   ]
  },
  {
   "cell_type": "markdown",
   "metadata": {},
   "source": [
    "fsdocs `watch` will launch a browser and allow you to browse your created docs. When it launches, it will try to hit index.html and will then 404. One needs to have a index.md or index.fsx file in the `docs` directy so fsdocs will create the index.html. "
   ]
  },
  {
   "cell_type": "markdown",
   "metadata": {},
   "source": [
    "Running the `build` command will search through and generate all the html into an `RepoRoot/` `output` directory. "
   ]
  },
  {
   "cell_type": "code",
   "execution_count": 20,
   "metadata": {
    "dotnet_interactive": {
     "language": "pwsh"
    },
    "polyglot_notebook": {
     "kernelName": "pwsh"
    }
   },
   "outputs": [
    {
     "name": "stdout",
     "output_type": "stream",
     "text": [
      "restored project state from '.fsdocs/cache'\n",
      "using extra content from /home/linux/.nuget/packages/fsdocs-tool/20.0.0/extras\n",
      "\n",
      "Content:\n",
      "\n",
      "Write API Docs:\n",
      "\n",
      "Write Content:\n",
      "  copying /home/linux/.nuget/packages/fsdocs-tool/20.0.0/extras/Dockerfile --> ./Dockerfile\n",
      "  copying /home/linux/.nuget/packages/fsdocs-tool/20.0.0/extras/NuGet.config --> ./NuGet.config\n",
      "  copying /home/linux/.nuget/packages/fsdocs-tool/20.0.0/extras/content/fsdocs-theme-toggle.js --> ./content/fsdocs-theme-toggle.js\n",
      "  copying /home/linux/.nuget/packages/fsdocs-tool/20.0.0/extras/content/fsdocs-theme-set-dark.js --> ./content/fsdocs-theme-set-dark.js\n",
      "  copying /home/linux/.nuget/packages/fsdocs-tool/20.0.0/extras/content/fsdocs-tips.js --> ./content/fsdocs-tips.js\n",
      "  copying /home/linux/.nuget/packages/fsdocs-tool/20.0.0/extras/content/fsdocs-default.css --> ./content/fsdocs-default.css\n",
      "  copying /home/linux/.nuget/packages/fsdocs-tool/20.0.0/extras/content/fsdocs-search.js --> ./content/fsdocs-search.js\n",
      "  copying /home/linux/.nuget/packages/fsdocs-tool/20.0.0/extras/content/fsdocs-theme.js --> ./content/fsdocs-theme.js\n",
      "  copying /home/linux/.nuget/packages/fsdocs-tool/20.0.0/extras/content/fsdocs-theme.css --> ./content/fsdocs-theme.css\n",
      "  copying /home/linux/.nuget/packages/fsdocs-tool/20.0.0/extras/content/img/github-pages-settings.png --> ./content/img/github-pages-settings.png\n"
     ]
    }
   ],
   "source": [
    "dotnet fsdocs build"
   ]
  }
 ],
 "metadata": {
  "kernelspec": {
   "display_name": ".NET (F#)",
   "language": "F#",
   "name": ".net-fsharp"
  },
  "language_info": {
   "name": "polyglot-notebook"
  },
  "polyglot_notebook": {
   "kernelInfo": {
    "defaultKernelName": "fsharp",
    "items": [
     {
      "aliases": [],
      "languageName": "fsharp",
      "name": "fsharp"
     }
    ]
   }
  }
 },
 "nbformat": 4,
 "nbformat_minor": 2
}
